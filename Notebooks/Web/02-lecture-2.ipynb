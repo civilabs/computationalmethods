{
 "cells": [
  {
   "cell_type": "markdown",
   "metadata": {
    "id": "BDxABmlNwqJT"
   },
   "source": [
    "# 1. Finite Difference Method (FDM): Introduction"
   ]
  },
  {
   "cell_type": "markdown",
   "metadata": {
    "id": "G5nPll7B210o"
   },
   "source": [
    "In FDM derivatives in the governing equations are written in finite difference equations. To illustrate, let us consider the second-order, one-dimensional differential equation:"
   ]
  },
  {
   "cell_type": "markdown",
   "metadata": {},
   "source": [
    "$$ {d^{2}u\\over dx^{2}}-2=0, 0<x<1 $$"
   ]
  },
  {
   "cell_type": "markdown",
   "metadata": {},
   "source": [
    "With Dirichlet boundary conditions (values of variable u specified at boundaries): u=0 at x=0 and u=0 at x=1, the exact Solution is:"
   ]
  },
  {
   "cell_type": "markdown",
   "metadata": {},
   "source": [
    "$$ u=x^2 - x $$"
   ]
  },
  {
   "attachments": {},
   "cell_type": "markdown",
   "metadata": {},
   "source": [
    "In FDM, solutions are computed at specific - discrete – points called Nodes. The process of subdividing the domain into discrete points is called discretization. Starting from x=0 the domain is subdivided in steps, until x=1. The chosen step is called step size and is denoted by Δx."
   ]
  },
  {
   "attachments": {},
   "cell_type": "markdown",
   "metadata": {},
   "source": [
    "<img src=\"https://raw.githubusercontent.com/civilabs/computationalmethods/main/Handouts/Images/Lecture2/4.png\" width=\"500\"/>"
   ]
  },
  {
   "attachments": {},
   "cell_type": "markdown",
   "metadata": {},
   "source": [
    "Finite Difference Equations:\n",
    "\n",
    "Forward difference\n",
    "\n",
    "$$ ({du \\over dx})_i ≈ {u_{i+1} - u_{i} \\over Δx} $$\n",
    "\n",
    "Backward difference\n",
    "\n",
    "$$ ({du \\over dx})_i ≈ {u_{i} - u_{i-1} \\over Δx} $$\n",
    "\n",
    "Central difference\n",
    "\n",
    "$$ ({du \\over dx})_i ≈ {u_{i+1} - u_{i-1} \\over 2Δx} $$\n",
    "\n",
    "So:\n",
    "<img src=\"https://raw.githubusercontent.com/civilabs/computationalmethods/main/Handouts/Images/Lecture2/8.png\" width=\"450\"/>"
   ]
  },
  {
   "attachments": {},
   "cell_type": "markdown",
   "metadata": {},
   "source": [
    "Given Boundary condition: $ u_{i-1}=0 $, $ u_{i+1}=0 $; and at point i, Δx = 1/2 \n",
    "\n",
    "<img src=\"https://raw.githubusercontent.com/civilabs/computationalmethods/main/Handouts/Images/Lecture2/9.png\" width=\"220\"/>"
   ]
  },
  {
   "attachments": {},
   "cell_type": "markdown",
   "metadata": {},
   "source": [
    "From Exact Solution:\n",
    "\n",
    "<img src=\"https://raw.githubusercontent.com/civilabs/computationalmethods/main/Handouts/Images/Lecture2/10.png\" width=\"190\"/>"
   ]
  },
  {
   "attachments": {
    "image-2.png": {
     "image/png": "[encoded data removed]"
    },
    "image-4.png": {
     "image/png": "[encoded data removed]"
    },
    "image-5.png": {
     "image/png": "[encoded data removed]"
    },
    "image-7.png": {
     "image/png": "[encoded data removed]"
    },
    "image-9.png": {
     "image/png": "[encoded data removed]"
    }
   },
   "cell_type": "markdown",
   "metadata": {},
   "source": [
    "## Example Problem\n",
    "\n",
    "Consider the three-element system shown below.\n",
    "\n",
    "<br/><div><img src=\"attachment:image-2.png\" width=\"300\"/></div>\n",
    "\n",
    "And solve the differential equation shown below.\n",
    "\n",
    "<br/><div><img src=\"attachment:image-4.png\" width=\"200\"/></div>\n",
    "\n",
    "<br/><div><img src=\"attachment:image-5.png\" width=\"180\"/></div>\n",
    "\n",
    "Subject to the Dirichlet boundary condition:\n",
    "\n",
    "<br/><div><img src=\"attachment:image-7.png\" width=\"120\"/></div>\n",
    "\n",
    "Exact solution:\n",
    "<br/><div><img src=\"attachment:image-9.png\" width=\"90\"/></div>"
   ]
  },
  {
   "cell_type": "code",
   "execution_count": null,
   "metadata": {},
   "outputs": [],
   "source": []
  }
 ],
 "metadata": {
  "colab": {
   "authorship_tag": "ABX9TyNk4VnsXFRmRToK84cRVDHM",
   "collapsed_sections": [],
   "name": "02-constitutive-models.ipynb",
   "provenance": []
  },
  "kernelspec": {
   "display_name": "Python 3 (ipykernel)",
   "language": "python",
   "name": "python3"
  },
  "language_info": {
   "codemirror_mode": {
    "name": "ipython",
    "version": 3
   },
   "file_extension": ".py",
   "mimetype": "text/x-python",
   "name": "python",
   "nbconvert_exporter": "python",
   "pygments_lexer": "ipython3",
   "version": "3.10.4"
  }
 },
 "nbformat": 4,
 "nbformat_minor": 1
}
