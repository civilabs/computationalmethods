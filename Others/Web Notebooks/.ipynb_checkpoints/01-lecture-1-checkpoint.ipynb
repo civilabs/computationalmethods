{
 "cells": [
  {
   "cell_type": "markdown",
   "metadata": {
    "id": "BDxABmlNwqJT"
   },
   "source": [
    "# 1. General Introduction"
   ]
  },
  {
   "cell_type": "markdown",
   "metadata": {
    "id": "G5nPll7B210o"
   },
   "source": [
    "Many problems in engineering are governed by differential or integral equations. The solutions to these equations would provide an exact, closed-form solution to the particular problem being studied.\n",
    "\n",
    "However, complexities in the geometry, loadings, properties and boundary conditions that are seen in most real-world problems usually mean that an exact solution cannot be obtained or obtained in a reasonable amount of time. Therefore, it is necessary to seek and rely on a computational solution.\n",
    "\n",
    "This fundamental necessity and the steadfast improvement in the speed and memory size of computers since the 1950s have led to the emergence of computational Mechanics. Consequently, several computational methods have been developed to obtain approximate solutions that can be readily obtained in a reasonable time frame, and with reasonable effort.\n",
    "\n",
    "The computational techniques replace the governing differential or integral equations with systems of simultaneous algebraic equations, so that a computer can be used to obtain the solution. The computational techniques yield approximate values of the unknowns at discrete number of points in the continuum."
   ]
  },
  {
   "attachments": {},
   "cell_type": "markdown",
   "metadata": {},
   "source": [
    "# 2. Where This Course Fits?\n",
    "\n",
    "The field of Mechanics can be subdivided into 3 major areas:\n",
    "<br/>\n",
    "<div><img src=\"https://raw.githubusercontent.com/civilabs/computationalmethods/main/Others/Images/Lecture1/1.png\" width=\"300\"/></div>\n",
    "\n",
    "**Theoretical Mechanics** deals with fundamental laws and principles of mechanics. **Applied Mechanics** transfers this theoretical knowledge to scientific and engineering applications, through the formulation of mathematical models of physical phenomena. **Computational Mechanics** solves specific problems by simulation through numerical methods implemented on digital computers.\n",
    "\n",
    "Several branches according to the physical scale of the focus of attention:\n",
    "<br/>\n",
    "<div><img src=\"https://raw.githubusercontent.com/civilabs/computationalmethods/main/Others/Images/Lecture1/2.png\" width=\"500\"/></div>\n",
    "<br/>\n",
    "<div><img src=\"https://raw.githubusercontent.com/civilabs/computationalmethods/main/Others/Images/Lecture1/3.png\" width=\"300\"/></div>\n",
    "<br/>\n",
    "<div><img src=\"https://raw.githubusercontent.com/civilabs/computationalmethods/main/Others/Images/Lecture1/4.png\" width=\"300\"/></div>\n",
    "<br/>\n",
    "<div><img src=\"https://raw.githubusercontent.com/civilabs/computationalmethods/main/Others/Images/Lecture1/5.png\" width=\"500\"/></div>"
   ]
  }
 ],
 "metadata": {
  "colab": {
   "authorship_tag": "ABX9TyNk4VnsXFRmRToK84cRVDHM",
   "collapsed_sections": [],
   "name": "02-constitutive-models.ipynb",
   "provenance": []
  },
  "kernelspec": {
   "display_name": "Python 3 (ipykernel)",
   "language": "python",
   "name": "python3"
  },
  "language_info": {
   "codemirror_mode": {
    "name": "ipython",
    "version": 3
   },
   "file_extension": ".py",
   "mimetype": "text/x-python",
   "name": "python",
   "nbconvert_exporter": "python",
   "pygments_lexer": "ipython3",
   "version": "3.10.4"
  }
 },
 "nbformat": 4,
 "nbformat_minor": 1
}
